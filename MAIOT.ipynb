{
  "nbformat": 4,
  "nbformat_minor": 0,
  "metadata": {
    "colab": {
      "provenance": [],
      "mount_file_id": "1oWKt-jp-3JFuetW6s4QtJXSxGW_VYnoX",
      "authorship_tag": "ABX9TyMYbQbND/KfKSvh/jgCGQgW",
      "include_colab_link": true
    },
    "kernelspec": {
      "name": "python3",
      "display_name": "Python 3"
    },
    "language_info": {
      "name": "python"
    },
    "accelerator": "GPU",
    "gpuClass": "standard"
  },
  "cells": [
    {
      "cell_type": "markdown",
      "metadata": {
        "id": "view-in-github",
        "colab_type": "text"
      },
      "source": [
        "<a href=\"https://colab.research.google.com/github/divyamdholwani/Facial-Emotions-Recognition/blob/main/MAIOT.ipynb\" target=\"_parent\"><img src=\"https://colab.research.google.com/assets/colab-badge.svg\" alt=\"Open In Colab\"/></a>"
      ]
    },
    {
      "cell_type": "code",
      "execution_count": 1,
      "metadata": {
        "id": "nxKQX01gg-dU"
      },
      "outputs": [],
      "source": [
        "import pickle"
      ]
    },
    {
      "cell_type": "code",
      "source": [
        "from google.colab import drive\n",
        "drive.mount('/content/drive')"
      ],
      "metadata": {
        "colab": {
          "base_uri": "https://localhost:8080/"
        },
        "id": "kLraTdw7a5Gt",
        "outputId": "620a68ab-3904-481a-90f6-857e1e56b56c"
      },
      "execution_count": 2,
      "outputs": [
        {
          "output_type": "stream",
          "name": "stdout",
          "text": [
            "Drive already mounted at /content/drive; to attempt to forcibly remount, call drive.mount(\"/content/drive\", force_remount=True).\n"
          ]
        }
      ]
    },
    {
      "cell_type": "code",
      "source": [
        "! git clone https://github.com/muxspace/facial_expressions.git"
      ],
      "metadata": {
        "colab": {
          "base_uri": "https://localhost:8080/"
        },
        "id": "ho63zubUg_4-",
        "outputId": "b4514ec8-306e-4690-d544-7428750a9f39"
      },
      "execution_count": 3,
      "outputs": [
        {
          "output_type": "stream",
          "name": "stdout",
          "text": [
            "Cloning into 'facial_expressions'...\n",
            "remote: Enumerating objects: 14214, done.\u001b[K\n",
            "remote: Total 14214 (delta 0), reused 0 (delta 0), pack-reused 14214\u001b[K\n",
            "Receiving objects: 100% (14214/14214), 239.65 MiB | 15.60 MiB/s, done.\n",
            "Resolving deltas: 100% (223/223), done.\n",
            "Updating files: 100% (13996/13996), done.\n"
          ]
        }
      ]
    },
    {
      "cell_type": "code",
      "source": [
        "import csv\n",
        "data ={}\n",
        "with open('/content/facial_expressions/data/legend.csv') as f:\n",
        "  reader = csv.reader(f)\n",
        "  next(reader)\n",
        "  for row in reader:\n",
        "    key=row[2].lower()\n",
        "    if key in data:\n",
        "      data[key].append(row[1])\n",
        "    else:\n",
        "      data[key] = [row[1]]"
      ],
      "metadata": {
        "id": "VtnTfR-ihQ9b"
      },
      "execution_count": 4,
      "outputs": []
    },
    {
      "cell_type": "code",
      "source": [
        "emotion_list=list(data.keys())\n",
        "emotion_list"
      ],
      "metadata": {
        "colab": {
          "base_uri": "https://localhost:8080/"
        },
        "id": "b3KC5rbSh2nr",
        "outputId": "175543ab-2f85-4621-f871-c42005185eb1"
      },
      "execution_count": 5,
      "outputs": [
        {
          "output_type": "execute_result",
          "data": {
            "text/plain": [
              "['anger',\n",
              " 'surprise',\n",
              " 'disgust',\n",
              " 'fear',\n",
              " 'neutral',\n",
              " 'happiness',\n",
              " 'sadness',\n",
              " 'contempt']"
            ]
          },
          "metadata": {},
          "execution_count": 5
        }
      ]
    },
    {
      "cell_type": "code",
      "source": [
        "import os\n",
        "\n",
        "os.mkdir('master_data')\n",
        "os.mkdir('master_data/training')\n",
        "os.mkdir('master_data/testing')"
      ],
      "metadata": {
        "id": "3_8gFIMgh6Bd"
      },
      "execution_count": 6,
      "outputs": []
    },
    {
      "cell_type": "code",
      "source": [
        "for emotion in emotion_list:\n",
        "  os.mkdir(os.path.join('master_data/training/',emotion))\n",
        "  os.mkdir(os.path.join('master_data/testing/',emotion))"
      ],
      "metadata": {
        "id": "rMxyN0Qmh82E"
      },
      "execution_count": 7,
      "outputs": []
    },
    {
      "cell_type": "code",
      "source": [
        "from shutil import copyfile\n",
        "split_size=0.8\n",
        "\n",
        "for emotion, images in data.items():\n",
        "    train_size= int(split_size*len(images)) \n",
        "    train_images = images[:train_size] \n",
        "    test_images = images[train_size:] \n",
        "    \n",
        "    for image in train_images: \n",
        "        source = os.path.join('/content/facial_expressions/images', image)\n",
        "        dest = os.path.join('/content/master_data/training',emotion, image)\n",
        "        copyfile(source, dest)\n",
        "    \n",
        "    for image in test_images: \n",
        "        source = os.path.join('/content/facial_expressions/images', image)\n",
        "        dest = os.path.join('/content/master_data/testing',emotion, image)\n",
        "        copyfile(source, dest)\n",
        "  "
      ],
      "metadata": {
        "id": "V4ailG_kiTGl"
      },
      "execution_count": 8,
      "outputs": []
    },
    {
      "cell_type": "code",
      "source": [
        "import tensorflow as tf\n",
        "from tensorflow.keras.preprocessing.image import ImageDataGenerator\n",
        "from tensorflow.keras.optimizers import Adam\n",
        "from tensorflow.keras.callbacks import EarlyStopping\n",
        "from tensorflow.keras.layers import Conv2D, MaxPooling2D, Dense, Flatten"
      ],
      "metadata": {
        "id": "eQ66ziAliZ_e"
      },
      "execution_count": 9,
      "outputs": []
    },
    {
      "cell_type": "code",
      "source": [
        "model =tf.keras.models.Sequential([\n",
        "    Conv2D(16,(3,3), activation='relu', input_shape=(100,100,3)),\n",
        "    MaxPooling2D(2,2),\n",
        "    Conv2D(32,(3,3), activation='relu'),\n",
        "    MaxPooling2D(2,2),\n",
        "    Conv2D(64,(3,3), activation='relu'),\n",
        "    MaxPooling2D(2,2),\n",
        "    Flatten(),\n",
        "    Dense(512,activation='relu'),\n",
        "    Dense(8, activation='softmax')\n",
        "\n",
        "])\n",
        "\n",
        "model.compile(optimizer=Adam(lr=0.01), loss='categorical_crossentropy',metrics=['acc'])\n",
        "model.summary()"
      ],
      "metadata": {
        "colab": {
          "base_uri": "https://localhost:8080/"
        },
        "id": "XdBJlJ4niZeK",
        "outputId": "9642103d-e73f-4f52-938a-f25ca35f0cd6"
      },
      "execution_count": 10,
      "outputs": [
        {
          "output_type": "stream",
          "name": "stderr",
          "text": [
            "WARNING:absl:`lr` is deprecated in Keras optimizer, please use `learning_rate` or use the legacy optimizer, e.g.,tf.keras.optimizers.legacy.Adam.\n"
          ]
        },
        {
          "output_type": "stream",
          "name": "stdout",
          "text": [
            "Model: \"sequential\"\n",
            "_________________________________________________________________\n",
            " Layer (type)                Output Shape              Param #   \n",
            "=================================================================\n",
            " conv2d (Conv2D)             (None, 98, 98, 16)        448       \n",
            "                                                                 \n",
            " max_pooling2d (MaxPooling2D  (None, 49, 49, 16)       0         \n",
            " )                                                               \n",
            "                                                                 \n",
            " conv2d_1 (Conv2D)           (None, 47, 47, 32)        4640      \n",
            "                                                                 \n",
            " max_pooling2d_1 (MaxPooling  (None, 23, 23, 32)       0         \n",
            " 2D)                                                             \n",
            "                                                                 \n",
            " conv2d_2 (Conv2D)           (None, 21, 21, 64)        18496     \n",
            "                                                                 \n",
            " max_pooling2d_2 (MaxPooling  (None, 10, 10, 64)       0         \n",
            " 2D)                                                             \n",
            "                                                                 \n",
            " flatten (Flatten)           (None, 6400)              0         \n",
            "                                                                 \n",
            " dense (Dense)               (None, 512)               3277312   \n",
            "                                                                 \n",
            " dense_1 (Dense)             (None, 8)                 4104      \n",
            "                                                                 \n",
            "=================================================================\n",
            "Total params: 3,305,000\n",
            "Trainable params: 3,305,000\n",
            "Non-trainable params: 0\n",
            "_________________________________________________________________\n"
          ]
        }
      ]
    },
    {
      "cell_type": "code",
      "source": [
        "train_dir= \"‪/content/master_data/training\"\n",
        "\n",
        "test_dir= '‪/content/master_data/testing'\n",
        "\n",
        "train_datagen = ImageDataGenerator(rescale=1.0/255)\n",
        "train_generator = train_datagen.flow_from_directory(\n",
        "train_dir.strip(\"‪u202c\"), target_size=(100,100),class_mode='categorical', batch_size=128)\n",
        "\n",
        "test_datagen = ImageDataGenerator(rescale=1.0/255)\n",
        "test_generator = test_datagen.flow_from_directory(\n",
        "test_dir.strip(\"‪u202c\"), target_size=(100,100),class_mode='categorical', batch_size=128)"
      ],
      "metadata": {
        "colab": {
          "base_uri": "https://localhost:8080/"
        },
        "id": "kQp-O2nzi5eQ",
        "outputId": "f988ab1f-6e38-4884-fe7c-e787baba1e90"
      },
      "execution_count": 12,
      "outputs": [
        {
          "output_type": "stream",
          "name": "stdout",
          "text": [
            "Found 10941 images belonging to 8 classes.\n",
            "Found 2742 images belonging to 8 classes.\n"
          ]
        }
      ]
    },
    {
      "cell_type": "code",
      "source": [
        "es = EarlyStopping(monitor='val_acc', patience=2, min_delta=0.01)"
      ],
      "metadata": {
        "id": "mYC94hb2i-6Y"
      },
      "execution_count": 13,
      "outputs": []
    },
    {
      "cell_type": "code",
      "source": [
        "model.fit_generator(train_generator,\n",
        "                   epochs=10,\n",
        "                   verbose=1,\n",
        "                   validation_data= test_generator,\n",
        "                   callbacks=[es])"
      ],
      "metadata": {
        "colab": {
          "base_uri": "https://localhost:8080/"
        },
        "id": "RHx9NBYLjLLb",
        "outputId": "94a10001-4e61-48bd-fc7c-53eeaf05b289"
      },
      "execution_count": 14,
      "outputs": [
        {
          "output_type": "stream",
          "name": "stderr",
          "text": [
            "<ipython-input-14-d761873881a5>:1: UserWarning: `Model.fit_generator` is deprecated and will be removed in a future version. Please use `Model.fit`, which supports generators.\n",
            "  model.fit_generator(train_generator,\n"
          ]
        },
        {
          "output_type": "stream",
          "name": "stdout",
          "text": [
            "Epoch 1/10\n",
            "86/86 [==============================] - 29s 219ms/step - loss: 0.9502 - acc: 0.6123 - val_loss: 1.4409 - val_acc: 0.6225\n",
            "Epoch 2/10\n",
            "86/86 [==============================] - 19s 225ms/step - loss: 0.6235 - acc: 0.7930 - val_loss: 1.2045 - val_acc: 0.6696\n",
            "Epoch 3/10\n",
            "86/86 [==============================] - 18s 210ms/step - loss: 0.5239 - acc: 0.8214 - val_loss: 1.5763 - val_acc: 0.6437\n",
            "Epoch 4/10\n",
            "86/86 [==============================] - 18s 208ms/step - loss: 0.4768 - acc: 0.8384 - val_loss: 1.4209 - val_acc: 0.6845\n",
            "Epoch 5/10\n",
            "86/86 [==============================] - 20s 230ms/step - loss: 0.4329 - acc: 0.8472 - val_loss: 1.5096 - val_acc: 0.6922\n",
            "Epoch 6/10\n",
            "86/86 [==============================] - 18s 210ms/step - loss: 0.4040 - acc: 0.8621 - val_loss: 1.9949 - val_acc: 0.6856\n"
          ]
        },
        {
          "output_type": "execute_result",
          "data": {
            "text/plain": [
              "<keras.callbacks.History at 0x7f97ec0292e0>"
            ]
          },
          "metadata": {},
          "execution_count": 14
        }
      ]
    },
    {
      "cell_type": "markdown",
      "source": [
        "PREDICTION!"
      ],
      "metadata": {
        "id": "ukYKnDZdpn7_"
      }
    },
    {
      "cell_type": "code",
      "source": [
        "filenames = test_generator.filenames\n",
        "nb_samples = len(filenames)\n",
        "filenames[10]\n"
      ],
      "metadata": {
        "colab": {
          "base_uri": "https://localhost:8080/",
          "height": 35
        },
        "id": "_7JPdBR3hOIE",
        "outputId": "fbd2052a-e9a9-498f-e2ca-b0aedab02000"
      },
      "execution_count": 42,
      "outputs": [
        {
          "output_type": "execute_result",
          "data": {
            "text/plain": [
              "'anger/Dwarakish_159.jpg'"
            ],
            "application/vnd.google.colaboratory.intrinsic+json": {
              "type": "string"
            }
          },
          "metadata": {},
          "execution_count": 42
        }
      ]
    },
    {
      "cell_type": "code",
      "source": [
        "predict = model.predict_generator(test_generator,nb_samples)"
      ],
      "metadata": {
        "colab": {
          "base_uri": "https://localhost:8080/"
        },
        "id": "Q4PKl79bjwi8",
        "outputId": "702ef8b0-96eb-49c8-c0c1-940357a41b93"
      },
      "execution_count": 25,
      "outputs": [
        {
          "output_type": "stream",
          "name": "stderr",
          "text": [
            "<ipython-input-25-591d7ccab351>:1: UserWarning: `Model.predict_generator` is deprecated and will be removed in a future version. Please use `Model.predict`, which supports generators.\n",
            "  predict = model.predict_generator(test_generator,nb_samples)\n",
            "WARNING:tensorflow:Your input ran out of data; interrupting training. Make sure that your dataset or generator can generate at least `steps_per_epoch * epochs` batches (in this case, 2742 batches). You may need to use the repeat() function when building your dataset.\n"
          ]
        }
      ]
    },
    {
      "cell_type": "code",
      "source": [
        "predict[0]"
      ],
      "metadata": {
        "colab": {
          "base_uri": "https://localhost:8080/"
        },
        "id": "GVUKV8DekH50",
        "outputId": "8839c3c7-c82a-4e41-9a50-d0e42b98fbc3"
      },
      "execution_count": 28,
      "outputs": [
        {
          "output_type": "execute_result",
          "data": {
            "text/plain": [
              "array([3.9693573e-04, 1.5780717e-05, 6.9928647e-05, 3.2293490e-05,\n",
              "       9.9484247e-01, 4.1279513e-03, 4.2961023e-04, 8.5098327e-05],\n",
              "      dtype=float32)"
            ]
          },
          "metadata": {},
          "execution_count": 28
        }
      ]
    },
    {
      "cell_type": "code",
      "source": [
        "label_map = (train_generator.class_indices)\n",
        "label_map = dict([(value, key) for key, value in label_map.items()])\n",
        "label_map"
      ],
      "metadata": {
        "colab": {
          "base_uri": "https://localhost:8080/"
        },
        "id": "JZ6BDblkkQ4t",
        "outputId": "53cf883c-1894-4814-eddc-24d0e64c8a46"
      },
      "execution_count": 35,
      "outputs": [
        {
          "output_type": "execute_result",
          "data": {
            "text/plain": [
              "{0: 'anger',\n",
              " 1: 'contempt',\n",
              " 2: 'disgust',\n",
              " 3: 'fear',\n",
              " 4: 'happiness',\n",
              " 5: 'neutral',\n",
              " 6: 'sadness',\n",
              " 7: 'surprise'}"
            ]
          },
          "metadata": {},
          "execution_count": 35
        }
      ]
    },
    {
      "cell_type": "code",
      "source": [
        "import numpy as np\n",
        "label_map[np.argmax(predict[10])]\n"
      ],
      "metadata": {
        "id": "J0ljL-fvl-Gy"
      },
      "execution_count": null,
      "outputs": []
    },
    {
      "cell_type": "code",
      "source": [
        "automl = pickle.load(open('model_pickle','rb'))"
      ],
      "metadata": {
        "id": "FCoMTmXimZ2s"
      },
      "execution_count": 44,
      "outputs": []
    },
    {
      "cell_type": "markdown",
      "source": [
        "**USING PICKLE MODEL TO IMPLEMENT!!**\n",
        "\n",
        "\n",
        "\n"
      ],
      "metadata": {
        "id": "eft4FnCVpSjx"
      }
    },
    {
      "cell_type": "code",
      "source": [
        "import pickle\n",
        "with open('model_pickle','wb') as f:\n",
        "    pickle.dump(model,f)"
      ],
      "metadata": {
        "id": "kX-geusGjR7-"
      },
      "execution_count": 15,
      "outputs": []
    },
    {
      "cell_type": "code",
      "source": [
        "predict = automl.predict_generator(test_generator,nb_samples)"
      ],
      "metadata": {
        "colab": {
          "base_uri": "https://localhost:8080/"
        },
        "id": "k76h_OdRpDdo",
        "outputId": "52c0118c-200c-462b-cd43-87467ac2ee58"
      },
      "execution_count": 45,
      "outputs": [
        {
          "output_type": "stream",
          "name": "stderr",
          "text": [
            "<ipython-input-45-ee39da4308f8>:1: UserWarning: `Model.predict_generator` is deprecated and will be removed in a future version. Please use `Model.predict`, which supports generators.\n",
            "  predict = automl.predict_generator(test_generator,nb_samples)\n",
            "WARNING:tensorflow:Your input ran out of data; interrupting training. Make sure that your dataset or generator can generate at least `steps_per_epoch * epochs` batches (in this case, 2742 batches). You may need to use the repeat() function when building your dataset.\n"
          ]
        }
      ]
    },
    {
      "cell_type": "code",
      "source": [
        "label_map[np.argmax(predict[1])]"
      ],
      "metadata": {
        "colab": {
          "base_uri": "https://localhost:8080/",
          "height": 35
        },
        "id": "RhU4KHOLpKaQ",
        "outputId": "45afab73-00b7-49d2-b898-b66c41ec3877"
      },
      "execution_count": 47,
      "outputs": [
        {
          "output_type": "execute_result",
          "data": {
            "text/plain": [
              "'disgust'"
            ],
            "application/vnd.google.colaboratory.intrinsic+json": {
              "type": "string"
            }
          },
          "metadata": {},
          "execution_count": 47
        }
      ]
    },
    {
      "cell_type": "code",
      "source": [],
      "metadata": {
        "id": "qzp9u-obpOo_"
      },
      "execution_count": null,
      "outputs": []
    }
  ]
}